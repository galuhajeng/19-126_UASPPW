{
 "cells": [
  {
   "cell_type": "markdown",
   "metadata": {},
   "source": [
    "# Import Library"
   ]
  },
  {
   "cell_type": "code",
   "execution_count": 1,
   "metadata": {},
   "outputs": [
    {
     "name": "stderr",
     "output_type": "stream",
     "text": [
      "C:\\Users\\GALUH\\Anaconda3\\lib\\site-packages\\sklearn\\feature_extraction\\image.py:167: DeprecationWarning: `np.int` is a deprecated alias for the builtin `int`. To silence this warning, use `int` by itself. Doing this will not modify any behavior and is safe. When replacing `np.int`, you may wish to use e.g. `np.int64` or `np.int32` to specify the precision. If you wish to review your current use, check the release note link for additional information.\n",
      "Deprecated in NumPy 1.20; for more details and guidance: https://numpy.org/devdocs/release/1.20.0-notes.html#deprecations\n",
      "  dtype=np.int):\n",
      "C:\\Users\\GALUH\\Anaconda3\\lib\\site-packages\\sklearn\\linear_model\\least_angle.py:35: DeprecationWarning: `np.float` is a deprecated alias for the builtin `float`. To silence this warning, use `float` by itself. Doing this will not modify any behavior and is safe. If you specifically wanted the numpy scalar type, use `np.float64` here.\n",
      "Deprecated in NumPy 1.20; for more details and guidance: https://numpy.org/devdocs/release/1.20.0-notes.html#deprecations\n",
      "  eps=np.finfo(np.float).eps,\n",
      "C:\\Users\\GALUH\\Anaconda3\\lib\\site-packages\\sklearn\\linear_model\\least_angle.py:597: DeprecationWarning: `np.float` is a deprecated alias for the builtin `float`. To silence this warning, use `float` by itself. Doing this will not modify any behavior and is safe. If you specifically wanted the numpy scalar type, use `np.float64` here.\n",
      "Deprecated in NumPy 1.20; for more details and guidance: https://numpy.org/devdocs/release/1.20.0-notes.html#deprecations\n",
      "  eps=np.finfo(np.float).eps, copy_X=True, fit_path=True,\n",
      "C:\\Users\\GALUH\\Anaconda3\\lib\\site-packages\\sklearn\\linear_model\\least_angle.py:836: DeprecationWarning: `np.float` is a deprecated alias for the builtin `float`. To silence this warning, use `float` by itself. Doing this will not modify any behavior and is safe. If you specifically wanted the numpy scalar type, use `np.float64` here.\n",
      "Deprecated in NumPy 1.20; for more details and guidance: https://numpy.org/devdocs/release/1.20.0-notes.html#deprecations\n",
      "  eps=np.finfo(np.float).eps, copy_X=True, fit_path=True,\n",
      "C:\\Users\\GALUH\\Anaconda3\\lib\\site-packages\\sklearn\\linear_model\\least_angle.py:862: DeprecationWarning: `np.float` is a deprecated alias for the builtin `float`. To silence this warning, use `float` by itself. Doing this will not modify any behavior and is safe. If you specifically wanted the numpy scalar type, use `np.float64` here.\n",
      "Deprecated in NumPy 1.20; for more details and guidance: https://numpy.org/devdocs/release/1.20.0-notes.html#deprecations\n",
      "  eps=np.finfo(np.float).eps, positive=False):\n",
      "C:\\Users\\GALUH\\Anaconda3\\lib\\site-packages\\sklearn\\linear_model\\least_angle.py:1074: DeprecationWarning: `np.float` is a deprecated alias for the builtin `float`. To silence this warning, use `float` by itself. Doing this will not modify any behavior and is safe. If you specifically wanted the numpy scalar type, use `np.float64` here.\n",
      "Deprecated in NumPy 1.20; for more details and guidance: https://numpy.org/devdocs/release/1.20.0-notes.html#deprecations\n",
      "  max_n_alphas=1000, n_jobs=1, eps=np.finfo(np.float).eps,\n",
      "C:\\Users\\GALUH\\Anaconda3\\lib\\site-packages\\sklearn\\linear_model\\least_angle.py:1306: DeprecationWarning: `np.float` is a deprecated alias for the builtin `float`. To silence this warning, use `float` by itself. Doing this will not modify any behavior and is safe. If you specifically wanted the numpy scalar type, use `np.float64` here.\n",
      "Deprecated in NumPy 1.20; for more details and guidance: https://numpy.org/devdocs/release/1.20.0-notes.html#deprecations\n",
      "  max_n_alphas=1000, n_jobs=1, eps=np.finfo(np.float).eps,\n",
      "C:\\Users\\GALUH\\Anaconda3\\lib\\site-packages\\sklearn\\linear_model\\least_angle.py:1442: DeprecationWarning: `np.float` is a deprecated alias for the builtin `float`. To silence this warning, use `float` by itself. Doing this will not modify any behavior and is safe. If you specifically wanted the numpy scalar type, use `np.float64` here.\n",
      "Deprecated in NumPy 1.20; for more details and guidance: https://numpy.org/devdocs/release/1.20.0-notes.html#deprecations\n",
      "  eps=np.finfo(np.float).eps, copy_X=True, positive=False):\n",
      "C:\\Users\\GALUH\\Anaconda3\\lib\\site-packages\\sklearn\\linear_model\\randomized_l1.py:152: DeprecationWarning: `np.float` is a deprecated alias for the builtin `float`. To silence this warning, use `float` by itself. Doing this will not modify any behavior and is safe. If you specifically wanted the numpy scalar type, use `np.float64` here.\n",
      "Deprecated in NumPy 1.20; for more details and guidance: https://numpy.org/devdocs/release/1.20.0-notes.html#deprecations\n",
      "  precompute=False, eps=np.finfo(np.float).eps,\n",
      "C:\\Users\\GALUH\\Anaconda3\\lib\\site-packages\\sklearn\\linear_model\\randomized_l1.py:318: DeprecationWarning: `np.float` is a deprecated alias for the builtin `float`. To silence this warning, use `float` by itself. Doing this will not modify any behavior and is safe. If you specifically wanted the numpy scalar type, use `np.float64` here.\n",
      "Deprecated in NumPy 1.20; for more details and guidance: https://numpy.org/devdocs/release/1.20.0-notes.html#deprecations\n",
      "  eps=np.finfo(np.float).eps, random_state=None,\n",
      "C:\\Users\\GALUH\\Anaconda3\\lib\\site-packages\\sklearn\\linear_model\\randomized_l1.py:575: DeprecationWarning: `np.float` is a deprecated alias for the builtin `float`. To silence this warning, use `float` by itself. Doing this will not modify any behavior and is safe. If you specifically wanted the numpy scalar type, use `np.float64` here.\n",
      "Deprecated in NumPy 1.20; for more details and guidance: https://numpy.org/devdocs/release/1.20.0-notes.html#deprecations\n",
      "  eps=4 * np.finfo(np.float).eps, n_jobs=1,\n"
     ]
    }
   ],
   "source": [
    "# data visualisation and manipulation\n",
    "import numpy as np\n",
    "import pandas as pd\n",
    "import matplotlib.pyplot as plt\n",
    "from matplotlib import style\n",
    "import seaborn as sns\n",
    "#configure\n",
    "# sets matplotlib to inline and displays graphs below the corressponding cell.\n",
    "%matplotlib inline  \n",
    "style.use('fivethirtyeight')\n",
    "sns.set(style='whitegrid',color_codes=True)\n",
    "\n",
    "#import nltk\n",
    "import nltk\n",
    "from nltk.corpus import stopwords\n",
    "from nltk.tokenize import word_tokenize,sent_tokenize\n",
    "\n",
    "#preprocessing\n",
    "from nltk.corpus import stopwords  #stopwords\n",
    "from nltk import word_tokenize,sent_tokenize # tokenizing\n",
    "from nltk.stem import PorterStemmer,LancasterStemmer  # using the Porter Stemmer and Lancaster Stemmer and others\n",
    "from nltk.stem.snowball import SnowballStemmer\n",
    "from nltk.stem import WordNetLemmatizer  # lammatizer from WordNet\n",
    "\n",
    "# for named entity recognition (NER)\n",
    "from nltk import ne_chunk\n",
    "\n",
    "# vectorizers for creating the document-term-matrix (DTM)\n",
    "from sklearn.feature_extraction.text import TfidfVectorizer,CountVectorizer\n",
    "\n",
    "#stop-words\n",
    "stop_words=set(nltk.corpus.stopwords.words('english'))"
   ]
  },
  {
   "cell_type": "code",
   "execution_count": 2,
   "metadata": {},
   "outputs": [
    {
     "data": {
      "text/html": [
       "<div>\n",
       "<style scoped>\n",
       "    .dataframe tbody tr th:only-of-type {\n",
       "        vertical-align: middle;\n",
       "    }\n",
       "\n",
       "    .dataframe tbody tr th {\n",
       "        vertical-align: top;\n",
       "    }\n",
       "\n",
       "    .dataframe thead th {\n",
       "        text-align: right;\n",
       "    }\n",
       "</style>\n",
       "<table border=\"1\" class=\"dataframe\">\n",
       "  <thead>\n",
       "    <tr style=\"text-align: right;\">\n",
       "      <th></th>\n",
       "      <th>Judul</th>\n",
       "      <th>Penulis</th>\n",
       "      <th>Dospem 1</th>\n",
       "      <th>Dospem 2</th>\n",
       "      <th>Abstraksi</th>\n",
       "      <th>Abstraction</th>\n",
       "      <th>Link Download</th>\n",
       "    </tr>\n",
       "  </thead>\n",
       "  <tbody>\n",
       "    <tr>\n",
       "      <th>0</th>\n",
       "      <td>PENGARUH KEPEMIMPINAN DAN KOMPENSASI TERHADAP ...</td>\n",
       "      <td>Hendri Wahyudi Prayitno</td>\n",
       "      <td>Dra. Hj. S Anugrahini Irawati, MM</td>\n",
       "      <td>Helmi Buyung Aulia,S,ST,SE,.MT</td>\n",
       "      <td>Abstrak\\r\\nPenelitian ini menggunakan metode k...</td>\n",
       "      <td>Abstract\\r\\nThis research use quantitative met...</td>\n",
       "      <td>https://pta.trunojoyo.ac.id/uploads/journals/0...</td>\n",
       "    </tr>\n",
       "    <tr>\n",
       "      <th>1</th>\n",
       "      <td>Pengukuran Website Quality Pada Situs Sistem A...</td>\n",
       "      <td>Muhammad Zakaria Utomo</td>\n",
       "      <td>Dr. Ir. Nurita Andriani, MM</td>\n",
       "      <td>Nirma Kurriwati, SP, M.Si</td>\n",
       "      <td>Aplikasi nyata pemanfaatan teknologi informasi...</td>\n",
       "      <td>Academic portal system in University of Trunoj...</td>\n",
       "      <td>https://pta.trunojoyo.ac.id/uploads/journals/1...</td>\n",
       "    </tr>\n",
       "    <tr>\n",
       "      <th>2</th>\n",
       "      <td>PENGARUH PERSEPSI MANFAAT, PERSEPSI KEMUDAHAN,...</td>\n",
       "      <td>Ahmad</td>\n",
       "      <td>Bambang Setiyo Pambudi, S.E., MM.</td>\n",
       "      <td>Fathor AS, S.E., MM.</td>\n",
       "      <td>Tujuan penelitian ini adalah untuk mengidentif...</td>\n",
       "      <td>The purpose of this research was to identify v...</td>\n",
       "      <td>https://pta.trunojoyo.ac.id/uploads/journals/0...</td>\n",
       "    </tr>\n",
       "    <tr>\n",
       "      <th>3</th>\n",
       "      <td>PENGARUH PENGEMBANGAN KARIR TERHADAP SEMANGAT ...</td>\n",
       "      <td>Danial Aziz M.YD</td>\n",
       "      <td>Dr. Hj. Iriani Ismail, Dra.,MM</td>\n",
       "      <td>Drs. Ec. Mudji Kuswinarno, M.Si</td>\n",
       "      <td>PLN merupakan Badan Usaha Milik Negara yang be...</td>\n",
       "      <td>PLN is a state-owned enterprise dealy with the...</td>\n",
       "      <td>https://pta.trunojoyo.ac.id/uploads/journals/0...</td>\n",
       "    </tr>\n",
       "    <tr>\n",
       "      <th>4</th>\n",
       "      <td>PENGARUH FAKTOR-FAKTOR STRES KERJA TERHADAP DI...</td>\n",
       "      <td>Saiful Rahman</td>\n",
       "      <td>Dr. Muhammad Alkirom Wildan,S.E.,M.Si</td>\n",
       "      <td>Helmi Buyung Aulia,S.ST.,S.E.,M.MT</td>\n",
       "      <td>\\r\\n\\r\\nPenelitian ini bertujuan untuk mengeta...</td>\n",
       "      <td>\\r\\n\\r\\nThis study aimed to determine the effe...</td>\n",
       "      <td>https://pta.trunojoyo.ac.id/uploads/journals/0...</td>\n",
       "    </tr>\n",
       "  </tbody>\n",
       "</table>\n",
       "</div>"
      ],
      "text/plain": [
       "                                               Judul                  Penulis  \\\n",
       "0  PENGARUH KEPEMIMPINAN DAN KOMPENSASI TERHADAP ...  Hendri Wahyudi Prayitno   \n",
       "1  Pengukuran Website Quality Pada Situs Sistem A...   Muhammad Zakaria Utomo   \n",
       "2  PENGARUH PERSEPSI MANFAAT, PERSEPSI KEMUDAHAN,...                    Ahmad   \n",
       "3  PENGARUH PENGEMBANGAN KARIR TERHADAP SEMANGAT ...         Danial Aziz M.YD   \n",
       "4  PENGARUH FAKTOR-FAKTOR STRES KERJA TERHADAP DI...            Saiful Rahman   \n",
       "\n",
       "                                Dospem 1                            Dospem 2  \\\n",
       "0      Dra. Hj. S Anugrahini Irawati, MM      Helmi Buyung Aulia,S,ST,SE,.MT   \n",
       "1            Dr. Ir. Nurita Andriani, MM           Nirma Kurriwati, SP, M.Si   \n",
       "2      Bambang Setiyo Pambudi, S.E., MM.                Fathor AS, S.E., MM.   \n",
       "3         Dr. Hj. Iriani Ismail, Dra.,MM     Drs. Ec. Mudji Kuswinarno, M.Si   \n",
       "4  Dr. Muhammad Alkirom Wildan,S.E.,M.Si  Helmi Buyung Aulia,S.ST.,S.E.,M.MT   \n",
       "\n",
       "                                           Abstraksi  \\\n",
       "0  Abstrak\\r\\nPenelitian ini menggunakan metode k...   \n",
       "1  Aplikasi nyata pemanfaatan teknologi informasi...   \n",
       "2  Tujuan penelitian ini adalah untuk mengidentif...   \n",
       "3  PLN merupakan Badan Usaha Milik Negara yang be...   \n",
       "4  \\r\\n\\r\\nPenelitian ini bertujuan untuk mengeta...   \n",
       "\n",
       "                                         Abstraction  \\\n",
       "0  Abstract\\r\\nThis research use quantitative met...   \n",
       "1  Academic portal system in University of Trunoj...   \n",
       "2  The purpose of this research was to identify v...   \n",
       "3  PLN is a state-owned enterprise dealy with the...   \n",
       "4  \\r\\n\\r\\nThis study aimed to determine the effe...   \n",
       "\n",
       "                                       Link Download  \n",
       "0  https://pta.trunojoyo.ac.id/uploads/journals/0...  \n",
       "1  https://pta.trunojoyo.ac.id/uploads/journals/1...  \n",
       "2  https://pta.trunojoyo.ac.id/uploads/journals/0...  \n",
       "3  https://pta.trunojoyo.ac.id/uploads/journals/0...  \n",
       "4  https://pta.trunojoyo.ac.id/uploads/journals/0...  "
      ]
     },
     "execution_count": 2,
     "metadata": {},
     "output_type": "execute_result"
    }
   ],
   "source": [
    "data_pta = pd.read_csv('UASPPW.csv')\n",
    "data_pta.head()"
   ]
  },
  {
   "cell_type": "code",
   "execution_count": 3,
   "metadata": {},
   "outputs": [],
   "source": [
    "#drop the publish date\n",
    "data_pta.drop(['Judul'],axis=1,inplace=True)\n",
    "data_pta.drop(['Penulis'],axis=1,inplace=True)\n",
    "data_pta.drop(['Dospem 1'],axis=1,inplace=True)\n",
    "data_pta.drop(['Dospem 2'],axis=1,inplace=True)\n",
    "data_pta.drop(['Abstraction'],axis=1,inplace=True)\n",
    "data_pta.drop(['Link Download'],axis=1,inplace=True)"
   ]
  },
  {
   "cell_type": "code",
   "execution_count": 4,
   "metadata": {},
   "outputs": [
    {
     "data": {
      "text/html": [
       "<div>\n",
       "<style scoped>\n",
       "    .dataframe tbody tr th:only-of-type {\n",
       "        vertical-align: middle;\n",
       "    }\n",
       "\n",
       "    .dataframe tbody tr th {\n",
       "        vertical-align: top;\n",
       "    }\n",
       "\n",
       "    .dataframe thead th {\n",
       "        text-align: right;\n",
       "    }\n",
       "</style>\n",
       "<table border=\"1\" class=\"dataframe\">\n",
       "  <thead>\n",
       "    <tr style=\"text-align: right;\">\n",
       "      <th></th>\n",
       "      <th>Abstraksi</th>\n",
       "    </tr>\n",
       "  </thead>\n",
       "  <tbody>\n",
       "    <tr>\n",
       "      <th>0</th>\n",
       "      <td>Abstrak\\r\\nPenelitian ini menggunakan metode k...</td>\n",
       "    </tr>\n",
       "    <tr>\n",
       "      <th>1</th>\n",
       "      <td>Aplikasi nyata pemanfaatan teknologi informasi...</td>\n",
       "    </tr>\n",
       "    <tr>\n",
       "      <th>2</th>\n",
       "      <td>Tujuan penelitian ini adalah untuk mengidentif...</td>\n",
       "    </tr>\n",
       "    <tr>\n",
       "      <th>3</th>\n",
       "      <td>PLN merupakan Badan Usaha Milik Negara yang be...</td>\n",
       "    </tr>\n",
       "    <tr>\n",
       "      <th>4</th>\n",
       "      <td>\\r\\n\\r\\nPenelitian ini bertujuan untuk mengeta...</td>\n",
       "    </tr>\n",
       "  </tbody>\n",
       "</table>\n",
       "</div>"
      ],
      "text/plain": [
       "                                           Abstraksi\n",
       "0  Abstrak\\r\\nPenelitian ini menggunakan metode k...\n",
       "1  Aplikasi nyata pemanfaatan teknologi informasi...\n",
       "2  Tujuan penelitian ini adalah untuk mengidentif...\n",
       "3  PLN merupakan Badan Usaha Milik Negara yang be...\n",
       "4  \\r\\n\\r\\nPenelitian ini bertujuan untuk mengeta..."
      ]
     },
     "execution_count": 4,
     "metadata": {},
     "output_type": "execute_result"
    }
   ],
   "source": [
    "data_pta.head()"
   ]
  },
  {
   "cell_type": "markdown",
   "metadata": {},
   "source": [
    "# Data Cleaning & Pre-Processing"
   ]
  },
  {
   "cell_type": "code",
   "execution_count": 5,
   "metadata": {},
   "outputs": [
    {
     "name": "stdout",
     "output_type": "stream",
     "text": [
      "[nltk_data] Downloading package wordnet to\n",
      "[nltk_data]     C:\\Users\\GALUH\\AppData\\Roaming\\nltk_data...\n",
      "[nltk_data]   Package wordnet is already up-to-date!\n"
     ]
    },
    {
     "data": {
      "text/plain": [
       "True"
      ]
     },
     "execution_count": 5,
     "metadata": {},
     "output_type": "execute_result"
    }
   ],
   "source": [
    "import nltk\n",
    "nltk.download('wordnet')"
   ]
  },
  {
   "cell_type": "code",
   "execution_count": 6,
   "metadata": {},
   "outputs": [],
   "source": [
    "def clean_text(Abstraksi):\n",
    "  le=WordNetLemmatizer()\n",
    "  word_tokens=word_tokenize(Abstraksi)\n",
    "  tokens=[le.lemmatize(w) for w in word_tokens if w not in stop_words and len(w)>3]\n",
    "  cleaned_text=\" \".join(tokens)\n",
    "  return cleaned_text"
   ]
  },
  {
   "cell_type": "code",
   "execution_count": 7,
   "metadata": {},
   "outputs": [],
   "source": [
    "# time taking\n",
    "data_pta['Abstraksi_cleaned_text']=data_pta['Abstraksi'].apply(clean_text)"
   ]
  },
  {
   "cell_type": "code",
   "execution_count": 8,
   "metadata": {},
   "outputs": [
    {
     "data": {
      "text/html": [
       "<div>\n",
       "<style scoped>\n",
       "    .dataframe tbody tr th:only-of-type {\n",
       "        vertical-align: middle;\n",
       "    }\n",
       "\n",
       "    .dataframe tbody tr th {\n",
       "        vertical-align: top;\n",
       "    }\n",
       "\n",
       "    .dataframe thead th {\n",
       "        text-align: right;\n",
       "    }\n",
       "</style>\n",
       "<table border=\"1\" class=\"dataframe\">\n",
       "  <thead>\n",
       "    <tr style=\"text-align: right;\">\n",
       "      <th></th>\n",
       "      <th>Abstraksi</th>\n",
       "      <th>Abstraksi_cleaned_text</th>\n",
       "    </tr>\n",
       "  </thead>\n",
       "  <tbody>\n",
       "    <tr>\n",
       "      <th>0</th>\n",
       "      <td>Abstrak\\r\\nPenelitian ini menggunakan metode k...</td>\n",
       "      <td>Abstrak Penelitian menggunakan metode kuantita...</td>\n",
       "    </tr>\n",
       "    <tr>\n",
       "      <th>1</th>\n",
       "      <td>Aplikasi nyata pemanfaatan teknologi informasi...</td>\n",
       "      <td>Aplikasi nyata pemanfaatan teknologi informasi...</td>\n",
       "    </tr>\n",
       "    <tr>\n",
       "      <th>2</th>\n",
       "      <td>Tujuan penelitian ini adalah untuk mengidentif...</td>\n",
       "      <td>Tujuan penelitian adalah untuk mengidentifikas...</td>\n",
       "    </tr>\n",
       "    <tr>\n",
       "      <th>3</th>\n",
       "      <td>PLN merupakan Badan Usaha Milik Negara yang be...</td>\n",
       "      <td>merupakan Badan Usaha Milik Negara yang berger...</td>\n",
       "    </tr>\n",
       "    <tr>\n",
       "      <th>4</th>\n",
       "      <td>\\r\\n\\r\\nPenelitian ini bertujuan untuk mengeta...</td>\n",
       "      <td>Penelitian bertujuan untuk mengetahui pengaruh...</td>\n",
       "    </tr>\n",
       "  </tbody>\n",
       "</table>\n",
       "</div>"
      ],
      "text/plain": [
       "                                           Abstraksi  \\\n",
       "0  Abstrak\\r\\nPenelitian ini menggunakan metode k...   \n",
       "1  Aplikasi nyata pemanfaatan teknologi informasi...   \n",
       "2  Tujuan penelitian ini adalah untuk mengidentif...   \n",
       "3  PLN merupakan Badan Usaha Milik Negara yang be...   \n",
       "4  \\r\\n\\r\\nPenelitian ini bertujuan untuk mengeta...   \n",
       "\n",
       "                              Abstraksi_cleaned_text  \n",
       "0  Abstrak Penelitian menggunakan metode kuantita...  \n",
       "1  Aplikasi nyata pemanfaatan teknologi informasi...  \n",
       "2  Tujuan penelitian adalah untuk mengidentifikas...  \n",
       "3  merupakan Badan Usaha Milik Negara yang berger...  \n",
       "4  Penelitian bertujuan untuk mengetahui pengaruh...  "
      ]
     },
     "execution_count": 8,
     "metadata": {},
     "output_type": "execute_result"
    }
   ],
   "source": [
    "data_pta.head()"
   ]
  },
  {
   "cell_type": "code",
   "execution_count": 9,
   "metadata": {},
   "outputs": [],
   "source": [
    "data_pta.drop(['Abstraksi'],axis=1,inplace=True)"
   ]
  },
  {
   "cell_type": "code",
   "execution_count": 10,
   "metadata": {},
   "outputs": [
    {
     "data": {
      "text/html": [
       "<div>\n",
       "<style scoped>\n",
       "    .dataframe tbody tr th:only-of-type {\n",
       "        vertical-align: middle;\n",
       "    }\n",
       "\n",
       "    .dataframe tbody tr th {\n",
       "        vertical-align: top;\n",
       "    }\n",
       "\n",
       "    .dataframe thead th {\n",
       "        text-align: right;\n",
       "    }\n",
       "</style>\n",
       "<table border=\"1\" class=\"dataframe\">\n",
       "  <thead>\n",
       "    <tr style=\"text-align: right;\">\n",
       "      <th></th>\n",
       "      <th>Abstraksi_cleaned_text</th>\n",
       "    </tr>\n",
       "  </thead>\n",
       "  <tbody>\n",
       "    <tr>\n",
       "      <th>0</th>\n",
       "      <td>Abstrak Penelitian menggunakan metode kuantita...</td>\n",
       "    </tr>\n",
       "    <tr>\n",
       "      <th>1</th>\n",
       "      <td>Aplikasi nyata pemanfaatan teknologi informasi...</td>\n",
       "    </tr>\n",
       "    <tr>\n",
       "      <th>2</th>\n",
       "      <td>Tujuan penelitian adalah untuk mengidentifikas...</td>\n",
       "    </tr>\n",
       "    <tr>\n",
       "      <th>3</th>\n",
       "      <td>merupakan Badan Usaha Milik Negara yang berger...</td>\n",
       "    </tr>\n",
       "    <tr>\n",
       "      <th>4</th>\n",
       "      <td>Penelitian bertujuan untuk mengetahui pengaruh...</td>\n",
       "    </tr>\n",
       "  </tbody>\n",
       "</table>\n",
       "</div>"
      ],
      "text/plain": [
       "                              Abstraksi_cleaned_text\n",
       "0  Abstrak Penelitian menggunakan metode kuantita...\n",
       "1  Aplikasi nyata pemanfaatan teknologi informasi...\n",
       "2  Tujuan penelitian adalah untuk mengidentifikas...\n",
       "3  merupakan Badan Usaha Milik Negara yang berger...\n",
       "4  Penelitian bertujuan untuk mengetahui pengaruh..."
      ]
     },
     "execution_count": 10,
     "metadata": {},
     "output_type": "execute_result"
    }
   ],
   "source": [
    "data_pta.head()"
   ]
  },
  {
   "cell_type": "code",
   "execution_count": 11,
   "metadata": {},
   "outputs": [
    {
     "data": {
      "text/plain": [
       "'Abstrak Penelitian menggunakan metode kuantitatif yang menekankan pada pengujian hipotesis Variabel yang digunakan pada penelitian adalah kepemimpinan kompensasi Penelitian dilaksanakan Kantor Dinas Pendidikan Kabupaten Sampang sampel yang digunakan adalah sebanyak orang yang terdiri dari pegawai negeri sipil Hipotesis pertama menjelaskan bahwa variabel bebas secara bersama–sama mempunyai hubungan yang signifikan secara simultan antara kepemimpinan kompensasi terhadap kinerja pegawai terbukti dengan nilai Fhitung pada tingkat sebesar 11,645 dengan nilai sebesar 0,311 Hipotesis kedua menjelaskan bahwa variabel kompensasi sebagai variabel yang mempunyai pengaruh dominan terbukti dengan nilai hitung 3,072 berarti bahwa terdapat pengaruh positif signifikan secara parsial antara variabel bebas terhadap variabel terikat Kesimpulan penelitian adalah pengujian hipotesis pertama menunjukkan bahwa berdasarkan pengujian statistik secara simultan variabel bebas memiliki pengaruh yang signifikan terhadap variabel terikat Pengujian hipotesis kedua membuktikan bahwa variabel kompensasi merupakan variabel yang berpengaruh dominan terhadap kinerja pada pegawai Dinas Pendidikan Kabupaten Sampang Kata kunci Kepemimpinan Kompensasi Kinerja'"
      ]
     },
     "execution_count": 11,
     "metadata": {},
     "output_type": "execute_result"
    }
   ],
   "source": [
    "data_pta['Abstraksi_cleaned_text'][0]"
   ]
  },
  {
   "cell_type": "code",
   "execution_count": 12,
   "metadata": {},
   "outputs": [],
   "source": [
    "vect =TfidfVectorizer(stop_words=stop_words,max_features=1000) # to play with. min_df,max_df,max_features etc..."
   ]
  },
  {
   "cell_type": "code",
   "execution_count": 13,
   "metadata": {},
   "outputs": [],
   "source": [
    "vect_text=vect.fit_transform(data_pta['Abstraksi_cleaned_text'])"
   ]
  },
  {
   "cell_type": "code",
   "execution_count": 14,
   "metadata": {},
   "outputs": [
    {
     "name": "stdout",
     "output_type": "stream",
     "text": [
      "(1019, 1000)\n",
      "  (0, 31)\t0.08879092855589596\n",
      "  (0, 664)\t0.08014876300920581\n",
      "  (0, 560)\t0.02355180242704762\n",
      "  (0, 579)\t0.029268907273191702\n",
      "  (0, 467)\t0.03281607387187586\n",
      "  (0, 996)\t0.16171827002639558\n",
      "  (0, 625)\t0.10260438834942304\n",
      "  (0, 682)\t0.20693622940715092\n",
      "  (0, 322)\t0.20793940286224946\n",
      "  (0, 978)\t0.2583426873196037\n",
      "  (0, 206)\t0.06199521383722869\n",
      "  (0, 34)\t0.06644749795285947\n",
      "  (0, 421)\t0.25934108532470534\n",
      "  (0, 449)\t0.424270832635519\n",
      "  (0, 213)\t0.0914482233411316\n",
      "  (0, 386)\t0.08817856792293124\n",
      "  (0, 221)\t0.17289405688313692\n",
      "  (0, 662)\t0.17884546484943584\n",
      "  (0, 384)\t0.11478935208354149\n",
      "  (0, 808)\t0.16582229261216502\n",
      "  (0, 809)\t0.027109834206708833\n",
      "  (0, 822)\t0.03828133885950553\n",
      "  (0, 619)\t0.06350853292673378\n",
      "  (0, 933)\t0.05033534478525255\n",
      "  (0, 176)\t0.025213147301884394\n",
      "  :\t:\n",
      "  (1018, 71)\t0.0791960792251197\n",
      "  (1018, 776)\t0.24909790226144107\n",
      "  (1018, 931)\t0.026339777468066063\n",
      "  (1018, 704)\t0.055989289559786166\n",
      "  (1018, 17)\t0.08636634278134955\n",
      "  (1018, 600)\t0.034091634966724786\n",
      "  (1018, 716)\t0.17347174093985335\n",
      "  (1018, 752)\t0.07596187873154467\n",
      "  (1018, 151)\t0.026339777468066063\n",
      "  (1018, 260)\t0.026298231805468354\n",
      "  (1018, 339)\t0.2332344030141854\n",
      "  (1018, 438)\t0.033068692467038155\n",
      "  (1018, 92)\t0.5392930823801768\n",
      "  (1018, 514)\t0.05495600018529469\n",
      "  (1018, 913)\t0.060933851916985186\n",
      "  (1018, 980)\t0.05221574179717904\n",
      "  (1018, 490)\t0.09415991730413673\n",
      "  (1018, 966)\t0.05000960019183147\n",
      "  (1018, 481)\t0.03959803961255985\n",
      "  (1018, 156)\t0.3277722402303624\n",
      "  (1018, 147)\t0.3605506999824323\n",
      "  (1018, 902)\t0.04585698089899865\n",
      "  (1018, 37)\t0.4006531642852637\n",
      "  (1018, 491)\t0.057885641725057786\n",
      "  (1018, 24)\t0.08494553940201723\n"
     ]
    }
   ],
   "source": [
    "print(vect_text.shape)\n",
    "print(vect_text)"
   ]
  },
  {
   "cell_type": "code",
   "execution_count": 15,
   "metadata": {},
   "outputs": [],
   "source": [
    "idf=vect.idf_"
   ]
  },
  {
   "cell_type": "code",
   "execution_count": 16,
   "metadata": {},
   "outputs": [
    {
     "name": "stdout",
     "output_type": "stream",
     "text": [
      "penelitian need\n",
      "1.4707882507061534\n",
      "3.5208386590140637\n"
     ]
    }
   ],
   "source": [
    "dd=dict(zip(vect.get_feature_names(), idf))\n",
    "l=sorted(dd, key=(dd).get)\n",
    "# print(l)\n",
    "print(l[0],l[-1])\n",
    "print(dd['metode'])\n",
    "print(dd['kesimpulan'])"
   ]
  },
  {
   "cell_type": "markdown",
   "metadata": {},
   "source": [
    "# TOPIC MODELLING"
   ]
  },
  {
   "cell_type": "markdown",
   "metadata": {},
   "source": [
    "## Latent Semantic Analysis (LSA)"
   ]
  },
  {
   "cell_type": "markdown",
   "metadata": {},
   "source": [
    "Pendekatan pertama yang saya gunakan adalah LSA. LSA pada dasarnya adalah dekomposisi nilai tunggal.\n",
    "\n",
    "SVD menguraikan DTM asli menjadi tiga matriks S=U.(sigma).(V.T). Di sini matriks U menunjukkan matriks dokumen-topik sementara (V) adalah matriks topik-term.\n",
    "\n",
    "Setiap baris dari matriks U (matriks istilah dokumen) adalah representasi vektor dari dokumen yang sesuai. Panjang vektor ini adalah jumlah topik yang diinginkan. Representasi vektor untuk suku-suku dalam data kami dapat ditemukan dalam matriks V (matriks istilah-topik).\n",
    "\n",
    "Jadi, SVD memberi kita vektor untuk setiap dokumen dan istilah dalam data kita. Panjang setiap vektor adalah k. Kami kemudian dapat menggunakan vektor-vektor ini untuk menemukan kata-kata dan dokumen serupa menggunakan metode kesamaan kosinus.\n",
    "\n",
    "Kita dapat menggunakan fungsi truncatedSVD untuk mengimplementasikan LSA. Parameter n_components adalah jumlah topik yang ingin kita ekstrak. Model tersebut kemudian di fit dan ditransformasikan pada hasil yang diberikan oleh vectorizer."
   ]
  },
  {
   "cell_type": "markdown",
   "metadata": {},
   "source": [
    "##### Terakhir perhatikan bahwa LSA dan LSI (I untuk pengindeksan) adalah sama dan yang terakhir kadang-kadang digunakan dalam konteks pencarian informasi."
   ]
  },
  {
   "cell_type": "code",
   "execution_count": 17,
   "metadata": {},
   "outputs": [
    {
     "name": "stderr",
     "output_type": "stream",
     "text": [
      "C:\\Users\\GALUH\\Anaconda3\\lib\\site-packages\\sklearn\\decomposition\\online_lda.py:31: DeprecationWarning: `np.float` is a deprecated alias for the builtin `float`. To silence this warning, use `float` by itself. Doing this will not modify any behavior and is safe. If you specifically wanted the numpy scalar type, use `np.float64` here.\n",
      "Deprecated in NumPy 1.20; for more details and guidance: https://numpy.org/devdocs/release/1.20.0-notes.html#deprecations\n",
      "  EPS = np.finfo(np.float).eps\n"
     ]
    }
   ],
   "source": [
    "from sklearn.decomposition import TruncatedSVD\n",
    "lsa_model = TruncatedSVD(n_components=10, algorithm='randomized', n_iter=10, random_state=42)\n",
    "\n",
    "lsa_top=lsa_model.fit_transform(vect_text)"
   ]
  },
  {
   "cell_type": "code",
   "execution_count": 18,
   "metadata": {},
   "outputs": [
    {
     "name": "stdout",
     "output_type": "stream",
     "text": [
      "[[ 0.40223184  0.05477522  0.03170902 ... -0.13955374 -0.00779129\n",
      "  -0.13802831]\n",
      " [ 0.16767021 -0.00714845  0.09112907 ... -0.03089736  0.09883285\n",
      "   0.09121637]\n",
      " [ 0.1896476  -0.04761114  0.09110701 ... -0.00763025  0.02432268\n",
      "  -0.0065766 ]\n",
      " ...\n",
      " [ 0.26744417 -0.19692686 -0.0926216  ... -0.10190127  0.03662243\n",
      "   0.00383358]\n",
      " [ 0.32925341 -0.27097781 -0.14379226 ... -0.13436103  0.09692347\n",
      "  -0.05030291]\n",
      " [ 0.22925724 -0.1797661  -0.08970461 ...  0.26397429 -0.12390932\n",
      "   0.04715158]]\n",
      "(1019, 10)\n"
     ]
    }
   ],
   "source": [
    "print(lsa_top)\n",
    "print(lsa_top.shape)  # (no_of_doc*no_of_topics)"
   ]
  },
  {
   "cell_type": "code",
   "execution_count": 19,
   "metadata": {},
   "outputs": [
    {
     "name": "stdout",
     "output_type": "stream",
     "text": [
      "Document 0 :\n",
      "Topic  0  :  40.223183995826595\n",
      "Topic  1  :  5.477521517285869\n",
      "Topic  2  :  3.1709018565477525\n",
      "Topic  3  :  -2.416305079866236\n",
      "Topic  4  :  -18.509036896544362\n",
      "Topic  5  :  -7.127083634698329\n",
      "Topic  6  :  12.40987055732333\n",
      "Topic  7  :  -13.955374086025522\n",
      "Topic  8  :  -0.7791290468683587\n",
      "Topic  9  :  -13.802830905320388\n"
     ]
    }
   ],
   "source": [
    "l=lsa_top[0]\n",
    "print(\"Document 0 :\")\n",
    "for i,topic in enumerate(l):\n",
    "  print(\"Topic \",i,\" : \",topic*100)"
   ]
  },
  {
   "cell_type": "markdown",
   "metadata": {},
   "source": [
    "Mirip dengan dokumen lain kita bisa melakukan ini. Namun perhatikan bahwa nilai tidak menambah 1 seperti di LSA itu bukan kemungkinan topik dalam dokumen."
   ]
  },
  {
   "cell_type": "code",
   "execution_count": 20,
   "metadata": {},
   "outputs": [
    {
     "name": "stdout",
     "output_type": "stream",
     "text": [
      "(10, 1000)\n",
      "[[ 0.05149807  0.00837577  0.00620808 ...  0.00563137  0.00431784\n",
      "   0.00744358]\n",
      " [ 0.04128514  0.00370316  0.00223738 ... -0.00607153 -0.00828432\n",
      "  -0.01533054]\n",
      " [-0.01930681 -0.00399104 -0.00168494 ...  0.01489312 -0.00553203\n",
      "  -0.01176702]\n",
      " ...\n",
      " [-0.09999427 -0.01044115 -0.00879706 ...  0.00181242  0.01736579\n",
      "   0.002177  ]\n",
      " [-0.10988009 -0.01209063 -0.01819365 ... -0.00142917 -0.01180541\n",
      "  -0.00500451]\n",
      " [ 0.08396776  0.01042404  0.0093321  ... -0.00588024  0.00705957\n",
      "   0.00586241]]\n"
     ]
    }
   ],
   "source": [
    "print(lsa_model.components_.shape) # (no_of_topics*no_of_words)\n",
    "print(lsa_model.components_)"
   ]
  },
  {
   "cell_type": "markdown",
   "metadata": {},
   "source": [
    "Sekarang kita bisa mendapatkan daftar kata-kata penting untuk masing-masing dari 10 topik seperti yang ditunjukkan. Untuk kesederhanaan di sini saya telah menunjukkan 10 kata untuk setiap topik."
   ]
  },
  {
   "cell_type": "code",
   "execution_count": 21,
   "metadata": {},
   "outputs": [
    {
     "name": "stdout",
     "output_type": "stream",
     "text": [
      "Topic 0: \n",
      "kerja karyawan terhadap yang kinerja variabel perusahaan penelitian berpengaruh sebesar \n",
      "\n",
      "Topic 1: \n",
      "kerja karyawan kinerja motivasi kepuasan disiplin lingkungan sebesar kompensasi organisasi \n",
      "\n",
      "Topic 2: \n",
      "keputusan pembelian produk merek konsumen kualitas promosi citra variabel mahasiswa \n",
      "\n",
      "Topic 3: \n",
      "ratio saham return equity harga debt earning share current kerja \n",
      "\n",
      "Topic 4: \n",
      "kerja kepuasan prestasi stres kualitas struktur produktivitas perusahaan pelayanan modal \n",
      "\n",
      "Topic 5: \n",
      "saham stock split harga volume sesudah sebelum perdagangan perbedaan kerja \n",
      "\n",
      "Topic 6: \n",
      "kepuasan bank pelayanan pegawai pelanggan kualitas yang loan rasio marketing \n",
      "\n",
      "Topic 7: \n",
      "bank rasio keuangan merek kerja karyawan kinerja ratio citra loan \n",
      "\n",
      "Topic 8: \n",
      "karyawan kepuasan kinerja pelayanan komitmen kualitas kompensasi harga pelanggan variabel \n",
      "\n",
      "Topic 9: \n",
      "merek kepuasan karyawan citra kualitas nilai sebesar 05 brand pelayanan \n",
      "\n"
     ]
    }
   ],
   "source": [
    "# most important words for each topic\n",
    "vocab = vect.get_feature_names()\n",
    "\n",
    "for i, comp in enumerate(lsa_model.components_):\n",
    "    vocab_comp = zip(vocab, comp)\n",
    "    sorted_words = sorted(vocab_comp, key= lambda x:x[1], reverse=True)[:10]\n",
    "    print(\"Topic \"+str(i)+\": \")\n",
    "    for t in sorted_words:\n",
    "        print(t[0],end=\" \")\n",
    "    print(\"\\n\")"
   ]
  },
  {
   "cell_type": "code",
   "execution_count": 23,
   "metadata": {},
   "outputs": [
    {
     "data": {
      "text/html": [
       "<div>\n",
       "<style scoped>\n",
       "    .dataframe tbody tr th:only-of-type {\n",
       "        vertical-align: middle;\n",
       "    }\n",
       "\n",
       "    .dataframe tbody tr th {\n",
       "        vertical-align: top;\n",
       "    }\n",
       "\n",
       "    .dataframe thead th {\n",
       "        text-align: right;\n",
       "    }\n",
       "</style>\n",
       "<table border=\"1\" class=\"dataframe\">\n",
       "  <thead>\n",
       "    <tr style=\"text-align: right;\">\n",
       "      <th></th>\n",
       "      <th>Abstraksi_cleaned_text</th>\n",
       "    </tr>\n",
       "  </thead>\n",
       "  <tbody>\n",
       "    <tr>\n",
       "      <th>0</th>\n",
       "      <td>Abstrak Penelitian menggunakan metode kuantita...</td>\n",
       "    </tr>\n",
       "    <tr>\n",
       "      <th>1</th>\n",
       "      <td>Aplikasi nyata pemanfaatan teknologi informasi...</td>\n",
       "    </tr>\n",
       "    <tr>\n",
       "      <th>2</th>\n",
       "      <td>Tujuan penelitian adalah untuk mengidentifikas...</td>\n",
       "    </tr>\n",
       "    <tr>\n",
       "      <th>3</th>\n",
       "      <td>merupakan Badan Usaha Milik Negara yang berger...</td>\n",
       "    </tr>\n",
       "    <tr>\n",
       "      <th>4</th>\n",
       "      <td>Penelitian bertujuan untuk mengetahui pengaruh...</td>\n",
       "    </tr>\n",
       "    <tr>\n",
       "      <th>...</th>\n",
       "      <td>...</td>\n",
       "    </tr>\n",
       "    <tr>\n",
       "      <th>1014</th>\n",
       "      <td>Kholidah Pengaruh Arus Operasi Arus Investasi ...</td>\n",
       "    </tr>\n",
       "    <tr>\n",
       "      <th>1015</th>\n",
       "      <td>Abstrak Fajria Nurul Islami 160211100236 Penga...</td>\n",
       "    </tr>\n",
       "    <tr>\n",
       "      <th>1016</th>\n",
       "      <td>Riska Utami Ningsih Pengaruh Kepemilikan insti...</td>\n",
       "    </tr>\n",
       "    <tr>\n",
       "      <th>1017</th>\n",
       "      <td>Berdasarkan hasil penelitian menunjukkan bahwa...</td>\n",
       "    </tr>\n",
       "    <tr>\n",
       "      <th>1018</th>\n",
       "      <td>Laura Monica Analisis Pengaruh Likuiditas Kual...</td>\n",
       "    </tr>\n",
       "  </tbody>\n",
       "</table>\n",
       "<p>1019 rows × 1 columns</p>\n",
       "</div>"
      ],
      "text/plain": [
       "                                 Abstraksi_cleaned_text\n",
       "0     Abstrak Penelitian menggunakan metode kuantita...\n",
       "1     Aplikasi nyata pemanfaatan teknologi informasi...\n",
       "2     Tujuan penelitian adalah untuk mengidentifikas...\n",
       "3     merupakan Badan Usaha Milik Negara yang berger...\n",
       "4     Penelitian bertujuan untuk mengetahui pengaruh...\n",
       "...                                                 ...\n",
       "1014  Kholidah Pengaruh Arus Operasi Arus Investasi ...\n",
       "1015  Abstrak Fajria Nurul Islami 160211100236 Penga...\n",
       "1016  Riska Utami Ningsih Pengaruh Kepemilikan insti...\n",
       "1017  Berdasarkan hasil penelitian menunjukkan bahwa...\n",
       "1018  Laura Monica Analisis Pengaruh Likuiditas Kual...\n",
       "\n",
       "[1019 rows x 1 columns]"
      ]
     },
     "execution_count": 23,
     "metadata": {},
     "output_type": "execute_result"
    }
   ],
   "source": [
    "data_pta"
   ]
  },
  {
   "cell_type": "code",
   "execution_count": 30,
   "metadata": {},
   "outputs": [
    {
     "name": "stdout",
     "output_type": "stream",
     "text": [
      "Top terms per cluster:\n",
      "Cluster 0:\n",
      " abstraksi_cleaned_text\n"
     ]
    },
    {
     "name": "stderr",
     "output_type": "stream",
     "text": [
      "C:\\Users\\GALUH\\Anaconda3\\lib\\site-packages\\sklearn\\metrics\\pairwise.py:53: DeprecationWarning: `np.float` is a deprecated alias for the builtin `float`. To silence this warning, use `float` by itself. Doing this will not modify any behavior and is safe. If you specifically wanted the numpy scalar type, use `np.float64` here.\n",
      "Deprecated in NumPy 1.20; for more details and guidance: https://numpy.org/devdocs/release/1.20.0-notes.html#deprecations\n",
      "  dtype = np.float\n"
     ]
    }
   ],
   "source": [
    "vectorizer = TfidfVectorizer(stop_words='english')\n",
    "berita = []\n",
    "for data in data_pta['Abstraksi_cleaned_text']:\n",
    "    isi = ''\n",
    "    for term in data:\n",
    "        isi += term + ' '\n",
    "    berita.append(isi)\n",
    "\n",
    "vectorizer.fit(data_pta)\n",
    "X = vectorizer.fit_transform(data_pta)\n",
    "\n",
    "true_k = 1\n",
    "model = KMeans(n_clusters=true_k, init='k-means++', max_iter=100, n_init=1)\n",
    "model.fit(X)\n",
    "\n",
    "print(\"Top terms per cluster:\")\n",
    "order_centroids = model.cluster_centers_.argsort()[:, ::-1]\n",
    "terms = vectorizer.get_feature_names()\n",
    "for i in range(true_k):\n",
    "    print(\"Cluster %d:\" % i),\n",
    "    for ind in order_centroids[i, :10]:\n",
    "        print(' %s' % terms[ind]),\n",
    "    print"
   ]
  },
  {
   "cell_type": "code",
   "execution_count": null,
   "metadata": {},
   "outputs": [],
   "source": []
  }
 ],
 "metadata": {
  "kernelspec": {
   "display_name": "Python 3",
   "language": "python",
   "name": "python3"
  },
  "language_info": {
   "codemirror_mode": {
    "name": "ipython",
    "version": 3
   },
   "file_extension": ".py",
   "mimetype": "text/x-python",
   "name": "python",
   "nbconvert_exporter": "python",
   "pygments_lexer": "ipython3",
   "version": "3.7.0"
  }
 },
 "nbformat": 4,
 "nbformat_minor": 2
}
